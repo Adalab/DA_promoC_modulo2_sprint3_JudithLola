{
 "cells": [
  {
   "cell_type": "markdown",
   "metadata": {},
   "source": [
    "## Pair Programming Limpieza I\n",
    "### Modulo 2 Sprint 2\n",
    "#### Lola Rubio y Judith Mellidez "
   ]
  },
  {
   "attachments": {},
   "cell_type": "markdown",
   "metadata": {},
   "source": [
    "1. Al empezar a trabajar con este dataframe ya eliminamos algunas columnas que a priori no nos interesaban.\n",
    "\n",
    "Ahora llega el momento de eliminar alguna columna más.\n",
    "\n",
    "En este caso tendréis que eliminar las columnas que no nos sean útiles para contestar a nuestras preguntas.\n",
    "\n",
    "Pero ojo ⚠️, haced una copia del dataframe para no \"cargarnos\" el dataframe original y perder la info.\n"
   ]
  },
  {
   "cell_type": "code",
   "execution_count": 2,
   "metadata": {},
   "outputs": [],
   "source": [
    "import pandas as pd\n",
    "import re\n",
    "import numpy as np"
   ]
  },
  {
   "cell_type": "code",
   "execution_count": 5,
   "metadata": {},
   "outputs": [
    {
     "data": {
      "text/html": [
       "<div>\n",
       "<style scoped>\n",
       "    .dataframe tbody tr th:only-of-type {\n",
       "        vertical-align: middle;\n",
       "    }\n",
       "\n",
       "    .dataframe tbody tr th {\n",
       "        vertical-align: top;\n",
       "    }\n",
       "\n",
       "    .dataframe thead th {\n",
       "        text-align: right;\n",
       "    }\n",
       "</style>\n",
       "<table border=\"1\" class=\"dataframe\">\n",
       "  <thead>\n",
       "    <tr style=\"text-align: right;\">\n",
       "      <th></th>\n",
       "      <th>case_number</th>\n",
       "      <th>year</th>\n",
       "      <th>type</th>\n",
       "      <th>country</th>\n",
       "      <th>area</th>\n",
       "      <th>location</th>\n",
       "      <th>activity</th>\n",
       "      <th>name</th>\n",
       "      <th>age</th>\n",
       "      <th>time</th>\n",
       "      <th>species_</th>\n",
       "      <th>href</th>\n",
       "      <th>injury</th>\n",
       "      <th>date</th>\n",
       "      <th>month</th>\n",
       "      <th>fatal</th>\n",
       "      <th>sex</th>\n",
       "    </tr>\n",
       "  </thead>\n",
       "  <tbody>\n",
       "    <tr>\n",
       "      <th>0</th>\n",
       "      <td>1800.00.00</td>\n",
       "      <td>1800.0</td>\n",
       "      <td>Unprovoked</td>\n",
       "      <td>SEYCHELLES</td>\n",
       "      <td>St. Anne</td>\n",
       "      <td>NaN</td>\n",
       "      <td>a corsair's boat was overturned</td>\n",
       "      <td>NaN</td>\n",
       "      <td>NaN</td>\n",
       "      <td>NaN</td>\n",
       "      <td>NaN</td>\n",
       "      <td>http://sharkattackfile.net/spreadsheets/pdf_di...</td>\n",
       "      <td>FATAL, all onboard were killed by sharks</td>\n",
       "      <td>1800</td>\n",
       "      <td>NaN</td>\n",
       "      <td>Y</td>\n",
       "      <td>F</td>\n",
       "    </tr>\n",
       "    <tr>\n",
       "      <th>1</th>\n",
       "      <td>1797.05.28.R</td>\n",
       "      <td>1797.0</td>\n",
       "      <td>Unprovoked</td>\n",
       "      <td>NaN</td>\n",
       "      <td>NaN</td>\n",
       "      <td>NaN</td>\n",
       "      <td>Dropped overboard</td>\n",
       "      <td>child</td>\n",
       "      <td>NaN</td>\n",
       "      <td>NaN</td>\n",
       "      <td>NaN</td>\n",
       "      <td>http://sharkattackfile.net/spreadsheets/pdf_di...</td>\n",
       "      <td>FATAL</td>\n",
       "      <td>Reported May-28-1797</td>\n",
       "      <td>May</td>\n",
       "      <td>Y</td>\n",
       "      <td>NaN</td>\n",
       "    </tr>\n",
       "  </tbody>\n",
       "</table>\n",
       "</div>"
      ],
      "text/plain": [
       "    case_number    year        type     country      area location  \\\n",
       "0    1800.00.00  1800.0  Unprovoked  SEYCHELLES  St. Anne      NaN   \n",
       "1  1797.05.28.R  1797.0  Unprovoked         NaN       NaN      NaN   \n",
       "\n",
       "                          activity   name  age time species_  \\\n",
       "0  a corsair's boat was overturned    NaN  NaN  NaN      NaN   \n",
       "1                Dropped overboard  child  NaN  NaN      NaN   \n",
       "\n",
       "                                                href  \\\n",
       "0  http://sharkattackfile.net/spreadsheets/pdf_di...   \n",
       "1  http://sharkattackfile.net/spreadsheets/pdf_di...   \n",
       "\n",
       "                                     injury                  date month fatal  \\\n",
       "0  FATAL, all onboard were killed by sharks                  1800   NaN     Y   \n",
       "1                                     FATAL  Reported May-28-1797   May     Y   \n",
       "\n",
       "   sex  \n",
       "0    F  \n",
       "1  NaN  "
      ]
     },
     "execution_count": 5,
     "metadata": {},
     "output_type": "execute_result"
    }
   ],
   "source": [
    "df = pd.read_csv('attacks_pandas_7.csv',index_col = 0)\n",
    "df.head(2)\n",
    "pd.options.display.max_columns=None"
   ]
  },
  {
   "cell_type": "code",
   "execution_count": 18,
   "metadata": {},
   "outputs": [
    {
     "data": {
      "text/plain": [
       "Index(['case_number', 'year', 'type', 'country', 'area', 'location',\n",
       "       'activity', 'name', 'age', 'time', 'species_', 'href', 'injury', 'date',\n",
       "       'month', 'fatal', 'sex'],\n",
       "      dtype='object')"
      ]
     },
     "execution_count": 18,
     "metadata": {},
     "output_type": "execute_result"
    }
   ],
   "source": [
    "df_copy = df.copy()\n",
    "df_copy.columns "
   ]
  },
  {
   "cell_type": "code",
   "execution_count": 19,
   "metadata": {},
   "outputs": [],
   "source": [
    "#Creamos una lista con los elementos que queremos eliminar para incluirla dentro del metodo '.drop'\n",
    "eliminar_columnas = ['area','location','activity','name','href','injury','time','date']"
   ]
  },
  {
   "cell_type": "code",
   "execution_count": 20,
   "metadata": {},
   "outputs": [
    {
     "data": {
      "text/html": [
       "<div>\n",
       "<style scoped>\n",
       "    .dataframe tbody tr th:only-of-type {\n",
       "        vertical-align: middle;\n",
       "    }\n",
       "\n",
       "    .dataframe tbody tr th {\n",
       "        vertical-align: top;\n",
       "    }\n",
       "\n",
       "    .dataframe thead th {\n",
       "        text-align: right;\n",
       "    }\n",
       "</style>\n",
       "<table border=\"1\" class=\"dataframe\">\n",
       "  <thead>\n",
       "    <tr style=\"text-align: right;\">\n",
       "      <th></th>\n",
       "      <th>case_number</th>\n",
       "      <th>year</th>\n",
       "      <th>type</th>\n",
       "      <th>country</th>\n",
       "      <th>age</th>\n",
       "      <th>species_</th>\n",
       "      <th>month</th>\n",
       "      <th>fatal</th>\n",
       "      <th>sex</th>\n",
       "    </tr>\n",
       "  </thead>\n",
       "  <tbody>\n",
       "    <tr>\n",
       "      <th>0</th>\n",
       "      <td>1800.00.00</td>\n",
       "      <td>1800.0</td>\n",
       "      <td>Unprovoked</td>\n",
       "      <td>SEYCHELLES</td>\n",
       "      <td>NaN</td>\n",
       "      <td>NaN</td>\n",
       "      <td>NaN</td>\n",
       "      <td>Y</td>\n",
       "      <td>F</td>\n",
       "    </tr>\n",
       "    <tr>\n",
       "      <th>1</th>\n",
       "      <td>1797.05.28.R</td>\n",
       "      <td>1797.0</td>\n",
       "      <td>Unprovoked</td>\n",
       "      <td>NaN</td>\n",
       "      <td>NaN</td>\n",
       "      <td>NaN</td>\n",
       "      <td>May</td>\n",
       "      <td>Y</td>\n",
       "      <td>NaN</td>\n",
       "    </tr>\n",
       "  </tbody>\n",
       "</table>\n",
       "</div>"
      ],
      "text/plain": [
       "    case_number    year        type     country  age species_ month fatal  sex\n",
       "0    1800.00.00  1800.0  Unprovoked  SEYCHELLES  NaN      NaN   NaN     Y    F\n",
       "1  1797.05.28.R  1797.0  Unprovoked         NaN  NaN      NaN   May     Y  NaN"
      ]
     },
     "execution_count": 20,
     "metadata": {},
     "output_type": "execute_result"
    }
   ],
   "source": [
    "df_copy.drop(eliminar_columnas,axis = 1,inplace=True)\n",
    "df_copy.head(2)"
   ]
  },
  {
   "attachments": {},
   "cell_type": "markdown",
   "metadata": {},
   "source": [
    "2. ¿Hay valores duplicados en nuestro dataframe? En caso de que los haya, eliminándlos."
   ]
  },
  {
   "cell_type": "code",
   "execution_count": 21,
   "metadata": {},
   "outputs": [
    {
     "data": {
      "text/plain": [
       "0"
      ]
     },
     "execution_count": 21,
     "metadata": {},
     "output_type": "execute_result"
    }
   ],
   "source": [
    "df_copy.duplicated().sum()"
   ]
  },
  {
   "cell_type": "code",
   "execution_count": 22,
   "metadata": {},
   "outputs": [
    {
     "name": "stdout",
     "output_type": "stream",
     "text": [
      "<class 'pandas.core.frame.DataFrame'>\n",
      "Int64Index: 1672 entries, 0 to 1671\n",
      "Data columns (total 9 columns):\n",
      " #   Column       Non-Null Count  Dtype  \n",
      "---  ------       --------------  -----  \n",
      " 0   case_number  1672 non-null   object \n",
      " 1   year         1672 non-null   float64\n",
      " 2   type         1672 non-null   object \n",
      " 3   country      1662 non-null   object \n",
      " 4   age          1518 non-null   object \n",
      " 5   species_     1546 non-null   object \n",
      " 6   month        1518 non-null   object \n",
      " 7   fatal        1576 non-null   object \n",
      " 8   sex          1657 non-null   object \n",
      "dtypes: float64(1), object(8)\n",
      "memory usage: 195.2+ KB\n"
     ]
    }
   ],
   "source": [
    "df_copy.info()"
   ]
  },
  {
   "attachments": {},
   "cell_type": "markdown",
   "metadata": {},
   "source": [
    "3. Como hemos visto, algunas columnas no tienen el tipo de datos que deberían. Cambiad el tipo de dato para la columna de year."
   ]
  },
  {
   "cell_type": "code",
   "execution_count": 24,
   "metadata": {},
   "outputs": [
    {
     "name": "stdout",
     "output_type": "stream",
     "text": [
      "<class 'pandas.core.frame.DataFrame'>\n",
      "Int64Index: 1672 entries, 0 to 1671\n",
      "Data columns (total 9 columns):\n",
      " #   Column       Non-Null Count  Dtype \n",
      "---  ------       --------------  ----- \n",
      " 0   case_number  1672 non-null   object\n",
      " 1   year         1672 non-null   int64 \n",
      " 2   type         1672 non-null   object\n",
      " 3   country      1662 non-null   object\n",
      " 4   age          1518 non-null   object\n",
      " 5   species_     1546 non-null   object\n",
      " 6   month        1518 non-null   object\n",
      " 7   fatal        1576 non-null   object\n",
      " 8   sex          1657 non-null   object\n",
      "dtypes: int64(1), object(8)\n",
      "memory usage: 195.2+ KB\n"
     ]
    }
   ],
   "source": [
    "df_copy['year'] = df['year'].astype('int64', errors = 'ignore')\n",
    "df_copy.info()"
   ]
  },
  {
   "attachments": {},
   "cell_type": "markdown",
   "metadata": {},
   "source": [
    "4. En la columna de country poner todos los valores en minúsculas.\n",
    "\n",
    "💡 Pista Tendréis que usar una función o una lambda 💡"
   ]
  },
  {
   "cell_type": "code",
   "execution_count": 32,
   "metadata": {},
   "outputs": [],
   "source": [
    "# Hacemos la función \n",
    "def minusculas(x): \n",
    "      col=col.lower()\n",
    "      return col"
   ]
  },
  {
   "cell_type": "code",
   "execution_count": 33,
   "metadata": {},
   "outputs": [
    {
     "data": {
      "text/html": [
       "<div>\n",
       "<style scoped>\n",
       "    .dataframe tbody tr th:only-of-type {\n",
       "        vertical-align: middle;\n",
       "    }\n",
       "\n",
       "    .dataframe tbody tr th {\n",
       "        vertical-align: top;\n",
       "    }\n",
       "\n",
       "    .dataframe thead th {\n",
       "        text-align: right;\n",
       "    }\n",
       "</style>\n",
       "<table border=\"1\" class=\"dataframe\">\n",
       "  <thead>\n",
       "    <tr style=\"text-align: right;\">\n",
       "      <th></th>\n",
       "      <th>case_number</th>\n",
       "      <th>year</th>\n",
       "      <th>type</th>\n",
       "      <th>country</th>\n",
       "      <th>age</th>\n",
       "      <th>species_</th>\n",
       "      <th>month</th>\n",
       "      <th>fatal</th>\n",
       "      <th>sex</th>\n",
       "    </tr>\n",
       "  </thead>\n",
       "  <tbody>\n",
       "    <tr>\n",
       "      <th>0</th>\n",
       "      <td>1800.00.00</td>\n",
       "      <td>1800</td>\n",
       "      <td>Unprovoked</td>\n",
       "      <td>seychelles</td>\n",
       "      <td>NaN</td>\n",
       "      <td>NaN</td>\n",
       "      <td>NaN</td>\n",
       "      <td>Y</td>\n",
       "      <td>F</td>\n",
       "    </tr>\n",
       "    <tr>\n",
       "      <th>1</th>\n",
       "      <td>1797.05.28.R</td>\n",
       "      <td>1797</td>\n",
       "      <td>Unprovoked</td>\n",
       "      <td>NaN</td>\n",
       "      <td>NaN</td>\n",
       "      <td>NaN</td>\n",
       "      <td>May</td>\n",
       "      <td>Y</td>\n",
       "      <td>NaN</td>\n",
       "    </tr>\n",
       "    <tr>\n",
       "      <th>2</th>\n",
       "      <td>1792.09.12</td>\n",
       "      <td>1792</td>\n",
       "      <td>Provoked</td>\n",
       "      <td>england</td>\n",
       "      <td>NaN</td>\n",
       "      <td>NaN</td>\n",
       "      <td>Sep</td>\n",
       "      <td>Y</td>\n",
       "      <td>M</td>\n",
       "    </tr>\n",
       "    <tr>\n",
       "      <th>3</th>\n",
       "      <td>1791.00.00</td>\n",
       "      <td>1791</td>\n",
       "      <td>Unprovoked</td>\n",
       "      <td>australia</td>\n",
       "      <td>NaN</td>\n",
       "      <td>NaN</td>\n",
       "      <td>NaN</td>\n",
       "      <td>Y</td>\n",
       "      <td>F</td>\n",
       "    </tr>\n",
       "    <tr>\n",
       "      <th>4</th>\n",
       "      <td>1788.05.10</td>\n",
       "      <td>1788</td>\n",
       "      <td>Boat</td>\n",
       "      <td>australia</td>\n",
       "      <td>NaN</td>\n",
       "      <td>NaN</td>\n",
       "      <td>May</td>\n",
       "      <td>N</td>\n",
       "      <td>NaN</td>\n",
       "    </tr>\n",
       "  </tbody>\n",
       "</table>\n",
       "</div>"
      ],
      "text/plain": [
       "    case_number  year        type     country  age species_ month fatal  sex\n",
       "0    1800.00.00  1800  Unprovoked  seychelles  NaN      NaN   NaN     Y    F\n",
       "1  1797.05.28.R  1797  Unprovoked         NaN  NaN      NaN   May     Y  NaN\n",
       "2    1792.09.12  1792    Provoked     england  NaN      NaN   Sep     Y    M\n",
       "3    1791.00.00  1791  Unprovoked   australia  NaN      NaN   NaN     Y    F\n",
       "4    1788.05.10  1788        Boat   australia  NaN      NaN   May     N  NaN"
      ]
     },
     "execution_count": 33,
     "metadata": {},
     "output_type": "execute_result"
    }
   ],
   "source": [
    "df_copy['country']= df_copy['country'].apply(minusculas) \n",
    "df_copy.head()"
   ]
  },
  {
   "attachments": {},
   "cell_type": "markdown",
   "metadata": {},
   "source": [
    "5. Guardamos el csv para seguir trabajando en el siguiente ejercicio de pair de limpieza."
   ]
  },
  {
   "cell_type": "code",
   "execution_count": 34,
   "metadata": {},
   "outputs": [],
   "source": [
    "df_copy.to_csv('attacks_limpieza1.csv',index = False)"
   ]
  }
 ],
 "metadata": {
  "kernelspec": {
   "display_name": "Python 3.10.8 64-bit",
   "language": "python",
   "name": "python3"
  },
  "language_info": {
   "codemirror_mode": {
    "name": "ipython",
    "version": 3
   },
   "file_extension": ".py",
   "mimetype": "text/x-python",
   "name": "python",
   "nbconvert_exporter": "python",
   "pygments_lexer": "ipython3",
   "version": "3.10.8"
  },
  "orig_nbformat": 4,
  "vscode": {
   "interpreter": {
    "hash": "aee8b7b246df8f9039afb4144a1f6fd8d2ca17a180786b69acc140d282b71a49"
   }
  }
 },
 "nbformat": 4,
 "nbformat_minor": 2
}
