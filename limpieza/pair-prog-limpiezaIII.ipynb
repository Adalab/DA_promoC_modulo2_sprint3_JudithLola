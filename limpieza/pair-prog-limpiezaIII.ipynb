{
 "cells": [
  {
   "cell_type": "code",
   "execution_count": 1,
   "metadata": {},
   "outputs": [],
   "source": [
    "import pandas as pd\n",
    "import numpy as np\n",
    "import seaborn as sns\n",
    "import matplotlib.pyplot as plt\n",
    "import warnings\n",
    "warnings.filterwarnings('ignore')"
   ]
  },
  {
   "cell_type": "code",
   "execution_count": 2,
   "metadata": {},
   "outputs": [
    {
     "data": {
      "text/html": [
       "<div>\n",
       "<style scoped>\n",
       "    .dataframe tbody tr th:only-of-type {\n",
       "        vertical-align: middle;\n",
       "    }\n",
       "\n",
       "    .dataframe tbody tr th {\n",
       "        vertical-align: top;\n",
       "    }\n",
       "\n",
       "    .dataframe thead th {\n",
       "        text-align: right;\n",
       "    }\n",
       "</style>\n",
       "<table border=\"1\" class=\"dataframe\">\n",
       "  <thead>\n",
       "    <tr style=\"text-align: right;\">\n",
       "      <th></th>\n",
       "      <th>case_number</th>\n",
       "      <th>year</th>\n",
       "      <th>type</th>\n",
       "      <th>country</th>\n",
       "      <th>age</th>\n",
       "      <th>species_</th>\n",
       "      <th>month</th>\n",
       "      <th>fatal</th>\n",
       "      <th>sex</th>\n",
       "      <th>species_shark</th>\n",
       "      <th>age_clean</th>\n",
       "      <th>edad_ataques</th>\n",
       "    </tr>\n",
       "  </thead>\n",
       "  <tbody>\n",
       "    <tr>\n",
       "      <th>0</th>\n",
       "      <td>1800.00.00</td>\n",
       "      <td>1800</td>\n",
       "      <td>Unprovoked</td>\n",
       "      <td>seychelles</td>\n",
       "      <td>NaN</td>\n",
       "      <td>NaN</td>\n",
       "      <td>NaN</td>\n",
       "      <td>Y</td>\n",
       "      <td>F</td>\n",
       "      <td>Unspecified</td>\n",
       "      <td>NaN</td>\n",
       "      <td>NaN</td>\n",
       "    </tr>\n",
       "    <tr>\n",
       "      <th>1</th>\n",
       "      <td>1797.05.28.R</td>\n",
       "      <td>1797</td>\n",
       "      <td>Unprovoked</td>\n",
       "      <td>NaN</td>\n",
       "      <td>NaN</td>\n",
       "      <td>NaN</td>\n",
       "      <td>May</td>\n",
       "      <td>Y</td>\n",
       "      <td>NaN</td>\n",
       "      <td>Unspecified</td>\n",
       "      <td>NaN</td>\n",
       "      <td>NaN</td>\n",
       "    </tr>\n",
       "  </tbody>\n",
       "</table>\n",
       "</div>"
      ],
      "text/plain": [
       "    case_number  year        type     country  age species_ month fatal  sex  \\\n",
       "0    1800.00.00  1800  Unprovoked  seychelles  NaN      NaN   NaN     Y    F   \n",
       "1  1797.05.28.R  1797  Unprovoked         NaN  NaN      NaN   May     Y  NaN   \n",
       "\n",
       "  species_shark  age_clean edad_ataques  \n",
       "0   Unspecified        NaN          NaN  \n",
       "1   Unspecified        NaN          NaN  "
      ]
     },
     "execution_count": 2,
     "metadata": {},
     "output_type": "execute_result"
    }
   ],
   "source": [
    "df = pd.read_csv('attacks_limpieza3.csv',index_col=0)\n",
    "df.head(2)"
   ]
  },
  {
   "attachments": {},
   "cell_type": "markdown",
   "metadata": {},
   "source": [
    "## Pair Programming Limpieza III\n",
    "\n",
    "Hipótesis\n",
    "\n",
    "Antes de seguir, recordamos las preguntas que nos planteamos al principio del pair programming de EDA para dirigir nuestro análisis.\n",
    "\n",
    "- ¿Es Australia es el sitio más peligroso y letal para estar relajada en la playa?\n",
    "\n",
    "- ¿Hay diferencias entre los paises en los ataques a hombres y mujeres?\n",
    "\n",
    "- ¿Cuáles son las edades que más sufren ataques?\n",
    "\n",
    "- Independientemente de la edad, sufren los hombres más ataques que las mujeres?\n",
    "\n",
    "- ¿En qué mes ocurren más ataques?\n",
    "\n",
    "- ¿Cuál es la relación entre la especie y el tipo de ataque (si es fatal o no)?\n",
    "\n",
    "- ¿Cómo han evolucionado los ataques a lo largo del tiempo?"
   ]
  },
  {
   "attachments": {},
   "cell_type": "markdown",
   "metadata": {},
   "source": [
    "Ya hemos limpiado todas las columnas que parecía que no tenían el tipo de dato que queríamos o que tenían demasiada información. Por lo tanto, en este ejercicio tendremos que limpiar los outliers."
   ]
  },
  {
   "attachments": {},
   "cell_type": "markdown",
   "metadata": {},
   "source": [
    "1. ¿Sobre qué columnas podremos eliminar o reemplazar los outliers?"
   ]
  },
  {
   "cell_type": "code",
   "execution_count": 24,
   "metadata": {},
   "outputs": [
    {
     "data": {
      "text/html": [
       "<div>\n",
       "<style scoped>\n",
       "    .dataframe tbody tr th:only-of-type {\n",
       "        vertical-align: middle;\n",
       "    }\n",
       "\n",
       "    .dataframe tbody tr th {\n",
       "        vertical-align: top;\n",
       "    }\n",
       "\n",
       "    .dataframe thead th {\n",
       "        text-align: right;\n",
       "    }\n",
       "</style>\n",
       "<table border=\"1\" class=\"dataframe\">\n",
       "  <thead>\n",
       "    <tr style=\"text-align: right;\">\n",
       "      <th></th>\n",
       "      <th>year</th>\n",
       "      <th>age</th>\n",
       "    </tr>\n",
       "  </thead>\n",
       "  <tbody>\n",
       "    <tr>\n",
       "      <th>0</th>\n",
       "      <td>1832.688397</td>\n",
       "      <td>NaN</td>\n",
       "    </tr>\n",
       "    <tr>\n",
       "      <th>1</th>\n",
       "      <td>1832.688397</td>\n",
       "      <td>NaN</td>\n",
       "    </tr>\n",
       "    <tr>\n",
       "      <th>2</th>\n",
       "      <td>1832.688397</td>\n",
       "      <td>NaN</td>\n",
       "    </tr>\n",
       "    <tr>\n",
       "      <th>3</th>\n",
       "      <td>1832.688397</td>\n",
       "      <td>NaN</td>\n",
       "    </tr>\n",
       "    <tr>\n",
       "      <th>4</th>\n",
       "      <td>1832.688397</td>\n",
       "      <td>NaN</td>\n",
       "    </tr>\n",
       "    <tr>\n",
       "      <th>...</th>\n",
       "      <td>...</td>\n",
       "      <td>...</td>\n",
       "    </tr>\n",
       "    <tr>\n",
       "      <th>1667</th>\n",
       "      <td>1901.000000</td>\n",
       "      <td>29.0</td>\n",
       "    </tr>\n",
       "    <tr>\n",
       "      <th>1668</th>\n",
       "      <td>1832.688397</td>\n",
       "      <td>19.0</td>\n",
       "    </tr>\n",
       "    <tr>\n",
       "      <th>1669</th>\n",
       "      <td>1832.688397</td>\n",
       "      <td>21.0</td>\n",
       "    </tr>\n",
       "    <tr>\n",
       "      <th>1670</th>\n",
       "      <td>1832.688397</td>\n",
       "      <td>12.0</td>\n",
       "    </tr>\n",
       "    <tr>\n",
       "      <th>1671</th>\n",
       "      <td>1832.688397</td>\n",
       "      <td>35.0</td>\n",
       "    </tr>\n",
       "  </tbody>\n",
       "</table>\n",
       "<p>1672 rows × 2 columns</p>\n",
       "</div>"
      ],
      "text/plain": [
       "             year   age\n",
       "0     1832.688397   NaN\n",
       "1     1832.688397   NaN\n",
       "2     1832.688397   NaN\n",
       "3     1832.688397   NaN\n",
       "4     1832.688397   NaN\n",
       "...           ...   ...\n",
       "1667  1901.000000  29.0\n",
       "1668  1832.688397  19.0\n",
       "1669  1832.688397  21.0\n",
       "1670  1832.688397  12.0\n",
       "1671  1832.688397  35.0\n",
       "\n",
       "[1672 rows x 2 columns]"
      ]
     },
     "execution_count": 24,
     "metadata": {},
     "output_type": "execute_result"
    }
   ],
   "source": [
    "numericas = df.select_dtypes(include = np.number)\n",
    "numericas"
   ]
  },
  {
   "cell_type": "code",
   "execution_count": 50,
   "metadata": {},
   "outputs": [
    {
     "name": "stdout",
     "output_type": "stream",
     "text": [
      "<class 'pandas.core.frame.DataFrame'>\n",
      "Int64Index: 1672 entries, 0 to 1671\n",
      "Data columns (total 11 columns):\n",
      " #   Column         Non-Null Count  Dtype  \n",
      "---  ------         --------------  -----  \n",
      " 0   case_number    1672 non-null   object \n",
      " 1   year           1672 non-null   int64  \n",
      " 2   type           1672 non-null   object \n",
      " 3   country        1662 non-null   object \n",
      " 4   age            1495 non-null   float64\n",
      " 5   species_       1546 non-null   object \n",
      " 6   month          1518 non-null   object \n",
      " 7   fatal          1576 non-null   object \n",
      " 8   sex            1657 non-null   object \n",
      " 9   species_shark  1672 non-null   object \n",
      " 10  edad_ataques   1495 non-null   object \n",
      "dtypes: float64(1), int64(1), object(9)\n",
      "memory usage: 221.3+ KB\n"
     ]
    }
   ],
   "source": [
    "df['year'] = df['year'].astype('int64', errors = 'ignore')\n",
    "df.info()"
   ]
  },
  {
   "cell_type": "code",
   "execution_count": 20,
   "metadata": {},
   "outputs": [
    {
     "data": {
      "text/plain": [
       "array([      nan, 14.      , 19.      , 20.      , 15.      , 21.      ,\n",
       "       27.      , 36.      , 25.      ,  6.      , 16.      , 50.      ,\n",
       "       57.      , 18.      , 32.      , 30.      , 60.      , 33.      ,\n",
       "       10.      , 28.709699, 55.      , 35.      , 54.      , 22.      ,\n",
       "       31.      , 40.      , 37.      , 11.      , 13.      , 34.      ,\n",
       "       46.      , 48.      , 17.      , 28.      , 65.      , 58.      ,\n",
       "       51.      , 61.      , 59.      , 42.      , 23.      , 29.      ,\n",
       "       39.      , 24.      , 12.      , 26.      , 43.      ,  9.      ,\n",
       "       44.      , 62.      , 52.      , 38.      , 47.      , 63.      ,\n",
       "       41.      , 53.      ,  7.      , 45.      , 64.      ,  8.      ,\n",
       "       56.      , 49.      ,  5.      ])"
      ]
     },
     "execution_count": 20,
     "metadata": {},
     "output_type": "execute_result"
    }
   ],
   "source": [
    "df['age'].unique()"
   ]
  },
  {
   "cell_type": "code",
   "execution_count": 21,
   "metadata": {},
   "outputs": [
    {
     "data": {
      "text/plain": [
       "array([      nan, 14.      , 19.      , 20.      , 15.      , 21.      ,\n",
       "       27.      , 36.      , 25.      ,  6.      , 16.      , 50.      ,\n",
       "       57.      , 18.      , 32.      , 30.      , 60.      , 33.      ,\n",
       "       10.      , 28.709699, 55.      , 35.      , 54.      , 22.      ,\n",
       "       31.      , 40.      , 37.      , 11.      , 13.      , 34.      ,\n",
       "       46.      , 48.      , 17.      , 28.      , 65.      , 58.      ,\n",
       "       51.      , 61.      , 59.      , 42.      , 23.      , 29.      ,\n",
       "       39.      , 24.      , 12.      , 26.      , 43.      ,  9.      ,\n",
       "       44.      , 62.      , 52.      , 38.      , 47.      , 63.      ,\n",
       "       41.      , 53.      ,  7.      , 45.      , 64.      ,  8.      ,\n",
       "       56.      , 49.      ,  5.      ])"
      ]
     },
     "execution_count": 21,
     "metadata": {},
     "output_type": "execute_result"
    }
   ],
   "source": [
    "df['age_clean'].unique()"
   ]
  },
  {
   "cell_type": "code",
   "execution_count": 22,
   "metadata": {},
   "outputs": [],
   "source": [
    "#Eliminamos la columna age_clean dado que la creamos para no sobreescribir la original, una vez realizadas las modificaciones \n",
    "#nos quedamos con la original.\n",
    "df.drop(['age_clean'], axis=1, inplace=True)"
   ]
  },
  {
   "cell_type": "code",
   "execution_count": 51,
   "metadata": {},
   "outputs": [
    {
     "data": {
      "text/plain": [
       "Index(['case_number', 'year', 'type', 'country', 'age', 'species_', 'month',\n",
       "       'fatal', 'sex', 'species_shark', 'edad_ataques'],\n",
       "      dtype='object')"
      ]
     },
     "execution_count": 51,
     "metadata": {},
     "output_type": "execute_result"
    }
   ],
   "source": [
    "df.columns"
   ]
  },
  {
   "attachments": {},
   "cell_type": "markdown",
   "metadata": {},
   "source": [
    "2. Identifica visualmente los outliers"
   ]
  },
  {
   "cell_type": "code",
   "execution_count": 59,
   "metadata": {},
   "outputs": [
    {
     "data": {
      "image/png": "[encoded data removed]",
      "text/plain": [
       "<Figure size 1500x700 with 1 Axes>"
      ]
     },
     "metadata": {},
     "output_type": "display_data"
    }
   ],
   "source": [
    "#Cremos un subplots de las variables numericas seleccionadas con anterioridad y guardadas\n",
    "#en las variable 'numericas.\n",
    "fig, ax=plt.subplots(figsize = (15,7))\n",
    "sns.boxplot(x='year', data=numericas)\n",
    "plt.show()\n"
   ]
  },
  {
   "attachments": {},
   "cell_type": "markdown",
   "metadata": {},
   "source": [
    "3. Identifica sobre el dataframe las filas que son outliers"
   ]
  },
  {
   "cell_type": "code",
   "execution_count": 60,
   "metadata": {},
   "outputs": [],
   "source": [
    "def detectar_outliers(lista_columnas, df): \n",
    "    \n",
    "    dicc_indices = {}\n",
    "\n",
    "    for col in lista_columnas:\n",
    "        Q1 = np.nanpercentile(df[col], 25)\n",
    "        Q3 = np.nanpercentile(df[col], 75)\n",
    "        IQR = Q3 - Q1\n",
    "        \n",
    "        outlier_step = 1.5 * IQR\n",
    "        outliers_data = df[(df[col] < Q1 - outlier_step) | (df[col] > Q3 + outlier_step)]\n",
    "        \n",
    "        if outliers_data.shape[0] > 0: \n",
    "            dicc_indices[col] = (list(outliers_data.index)) \n",
    "        \n",
    "    return dicc_indices "
   ]
  },
  {
   "cell_type": "code",
   "execution_count": 61,
   "metadata": {},
   "outputs": [
    {
     "data": {
      "text/plain": [
       "Index(['year'], dtype='object')"
      ]
     },
     "execution_count": 61,
     "metadata": {},
     "output_type": "execute_result"
    }
   ],
   "source": [
    "numericas.columns"
   ]
  },
  {
   "cell_type": "code",
   "execution_count": 62,
   "metadata": {},
   "outputs": [
    {
     "data": {
      "text/html": [
       "<div>\n",
       "<style scoped>\n",
       "    .dataframe tbody tr th:only-of-type {\n",
       "        vertical-align: middle;\n",
       "    }\n",
       "\n",
       "    .dataframe tbody tr th {\n",
       "        vertical-align: top;\n",
       "    }\n",
       "\n",
       "    .dataframe thead th {\n",
       "        text-align: right;\n",
       "    }\n",
       "</style>\n",
       "<table border=\"1\" class=\"dataframe\">\n",
       "  <thead>\n",
       "    <tr style=\"text-align: right;\">\n",
       "      <th></th>\n",
       "      <th>year</th>\n",
       "    </tr>\n",
       "  </thead>\n",
       "  <tbody>\n",
       "    <tr>\n",
       "      <th>count</th>\n",
       "      <td>1672.000000</td>\n",
       "    </tr>\n",
       "    <tr>\n",
       "      <th>mean</th>\n",
       "      <td>1975.325228</td>\n",
       "    </tr>\n",
       "    <tr>\n",
       "      <th>std</th>\n",
       "      <td>53.215876</td>\n",
       "    </tr>\n",
       "    <tr>\n",
       "      <th>min</th>\n",
       "      <td>1832.688397</td>\n",
       "    </tr>\n",
       "    <tr>\n",
       "      <th>25%</th>\n",
       "      <td>1964.000000</td>\n",
       "    </tr>\n",
       "    <tr>\n",
       "      <th>50%</th>\n",
       "      <td>1997.000000</td>\n",
       "    </tr>\n",
       "    <tr>\n",
       "      <th>75%</th>\n",
       "      <td>2008.000000</td>\n",
       "    </tr>\n",
       "    <tr>\n",
       "      <th>max</th>\n",
       "      <td>2018.000000</td>\n",
       "    </tr>\n",
       "  </tbody>\n",
       "</table>\n",
       "</div>"
      ],
      "text/plain": [
       "              year\n",
       "count  1672.000000\n",
       "mean   1975.325228\n",
       "std      53.215876\n",
       "min    1832.688397\n",
       "25%    1964.000000\n",
       "50%    1997.000000\n",
       "75%    2008.000000\n",
       "max    2018.000000"
      ]
     },
     "execution_count": 62,
     "metadata": {},
     "output_type": "execute_result"
    }
   ],
   "source": [
    "#Hacemos una exploracion de las variables numericas y observamos que los valores estadisticos de la columna 'age' \n",
    "# distorsionan poco el resultado, por lo que consideramos que los valores que nos dan puede ser infomacion util. \n",
    "numericas.describe()"
   ]
  },
  {
   "cell_type": "code",
   "execution_count": 63,
   "metadata": {},
   "outputs": [
    {
     "data": {
      "text/plain": [
       "year    1997.0\n",
       "dtype: float64"
      ]
     },
     "execution_count": 63,
     "metadata": {},
     "output_type": "execute_result"
    }
   ],
   "source": [
    "numericas.median()"
   ]
  },
  {
   "cell_type": "code",
   "execution_count": 64,
   "metadata": {},
   "outputs": [
    {
     "data": {
      "text/html": [
       "<div>\n",
       "<style scoped>\n",
       "    .dataframe tbody tr th:only-of-type {\n",
       "        vertical-align: middle;\n",
       "    }\n",
       "\n",
       "    .dataframe tbody tr th {\n",
       "        vertical-align: top;\n",
       "    }\n",
       "\n",
       "    .dataframe thead th {\n",
       "        text-align: right;\n",
       "    }\n",
       "</style>\n",
       "<table border=\"1\" class=\"dataframe\">\n",
       "  <thead>\n",
       "    <tr style=\"text-align: right;\">\n",
       "      <th></th>\n",
       "      <th>year</th>\n",
       "    </tr>\n",
       "  </thead>\n",
       "  <tbody>\n",
       "    <tr>\n",
       "      <th>0</th>\n",
       "      <td>1832.688397</td>\n",
       "    </tr>\n",
       "  </tbody>\n",
       "</table>\n",
       "</div>"
      ],
      "text/plain": [
       "          year\n",
       "0  1832.688397"
      ]
     },
     "execution_count": 64,
     "metadata": {},
     "output_type": "execute_result"
    }
   ],
   "source": [
    "numericas.mode()"
   ]
  },
  {
   "cell_type": "code",
   "execution_count": 38,
   "metadata": {},
   "outputs": [],
   "source": [
    "numericas.drop(['age'], axis=1, inplace=True)"
   ]
  },
  {
   "cell_type": "code",
   "execution_count": 39,
   "metadata": {},
   "outputs": [
    {
     "data": {
      "text/plain": [
       "Index(['year'], dtype='object')"
      ]
     },
     "execution_count": 39,
     "metadata": {},
     "output_type": "execute_result"
    }
   ],
   "source": [
    "numericas.columns"
   ]
  },
  {
   "cell_type": "code",
   "execution_count": 65,
   "metadata": {},
   "outputs": [],
   "source": [
    "numericas_lista= list(numericas)"
   ]
  },
  {
   "cell_type": "code",
   "execution_count": 66,
   "metadata": {},
   "outputs": [
    {
     "name": "stdout",
     "output_type": "stream",
     "text": [
      "{'year': [1654, 1655, 1656, 1657, 1658, 1659, 1660, 1661, 1662, 1663, 1664, 1665, 1666, 1667]}\n"
     ]
    }
   ],
   "source": [
    "ind=detectar_outliers(numericas_lista,df)\n",
    "print(ind)"
   ]
  },
  {
   "attachments": {},
   "cell_type": "markdown",
   "metadata": {},
   "source": [
    "4. Reemplaza los outliers por el estadístico más correcto."
   ]
  },
  {
   "cell_type": "code",
   "execution_count": 67,
   "metadata": {},
   "outputs": [],
   "source": [
    "def reemplazar_outliers (ind, df):\n",
    "    for k, v in ind.items():# calculamos la media para cada una de las columnas que tenemos en nuestro diccionario\n",
    "        media = df[k].mean() # calculamos la media para cada una de las columnas que tenemos en nuestro diccionario\n",
    "    for i in v: # iteremos por la lista de valores para cada columna\n",
    "        df.loc[i,k] = media\n",
    "    return df"
   ]
  },
  {
   "cell_type": "code",
   "execution_count": 68,
   "metadata": {},
   "outputs": [
    {
     "data": {
      "text/html": [
       "<div>\n",
       "<style scoped>\n",
       "    .dataframe tbody tr th:only-of-type {\n",
       "        vertical-align: middle;\n",
       "    }\n",
       "\n",
       "    .dataframe tbody tr th {\n",
       "        vertical-align: top;\n",
       "    }\n",
       "\n",
       "    .dataframe thead th {\n",
       "        text-align: right;\n",
       "    }\n",
       "</style>\n",
       "<table border=\"1\" class=\"dataframe\">\n",
       "  <thead>\n",
       "    <tr style=\"text-align: right;\">\n",
       "      <th></th>\n",
       "      <th>case_number</th>\n",
       "      <th>year</th>\n",
       "      <th>type</th>\n",
       "      <th>country</th>\n",
       "      <th>age</th>\n",
       "      <th>species_</th>\n",
       "      <th>month</th>\n",
       "      <th>fatal</th>\n",
       "      <th>sex</th>\n",
       "      <th>species_shark</th>\n",
       "      <th>edad_ataques</th>\n",
       "    </tr>\n",
       "  </thead>\n",
       "  <tbody>\n",
       "    <tr>\n",
       "      <th>0</th>\n",
       "      <td>1800.00.00</td>\n",
       "      <td>1975.000000</td>\n",
       "      <td>Unprovoked</td>\n",
       "      <td>seychelles</td>\n",
       "      <td>NaN</td>\n",
       "      <td>NaN</td>\n",
       "      <td>NaN</td>\n",
       "      <td>Y</td>\n",
       "      <td>F</td>\n",
       "      <td>Unspecified</td>\n",
       "      <td>NaN</td>\n",
       "    </tr>\n",
       "    <tr>\n",
       "      <th>1</th>\n",
       "      <td>1797.05.28.R</td>\n",
       "      <td>1975.000000</td>\n",
       "      <td>Unprovoked</td>\n",
       "      <td>NaN</td>\n",
       "      <td>NaN</td>\n",
       "      <td>NaN</td>\n",
       "      <td>May</td>\n",
       "      <td>Y</td>\n",
       "      <td>NaN</td>\n",
       "      <td>Unspecified</td>\n",
       "      <td>NaN</td>\n",
       "    </tr>\n",
       "    <tr>\n",
       "      <th>2</th>\n",
       "      <td>1792.09.12</td>\n",
       "      <td>1975.000000</td>\n",
       "      <td>Provoked</td>\n",
       "      <td>england</td>\n",
       "      <td>NaN</td>\n",
       "      <td>NaN</td>\n",
       "      <td>Sep</td>\n",
       "      <td>Y</td>\n",
       "      <td>M</td>\n",
       "      <td>Unspecified</td>\n",
       "      <td>NaN</td>\n",
       "    </tr>\n",
       "    <tr>\n",
       "      <th>3</th>\n",
       "      <td>1791.00.00</td>\n",
       "      <td>1975.000000</td>\n",
       "      <td>Unprovoked</td>\n",
       "      <td>australia</td>\n",
       "      <td>NaN</td>\n",
       "      <td>NaN</td>\n",
       "      <td>NaN</td>\n",
       "      <td>Y</td>\n",
       "      <td>F</td>\n",
       "      <td>Unspecified</td>\n",
       "      <td>NaN</td>\n",
       "    </tr>\n",
       "    <tr>\n",
       "      <th>4</th>\n",
       "      <td>1788.05.10</td>\n",
       "      <td>1975.000000</td>\n",
       "      <td>Boat</td>\n",
       "      <td>australia</td>\n",
       "      <td>NaN</td>\n",
       "      <td>NaN</td>\n",
       "      <td>May</td>\n",
       "      <td>N</td>\n",
       "      <td>NaN</td>\n",
       "      <td>Unspecified</td>\n",
       "      <td>NaN</td>\n",
       "    </tr>\n",
       "    <tr>\n",
       "      <th>...</th>\n",
       "      <td>...</td>\n",
       "      <td>...</td>\n",
       "      <td>...</td>\n",
       "      <td>...</td>\n",
       "      <td>...</td>\n",
       "      <td>...</td>\n",
       "      <td>...</td>\n",
       "      <td>...</td>\n",
       "      <td>...</td>\n",
       "      <td>...</td>\n",
       "      <td>...</td>\n",
       "    </tr>\n",
       "    <tr>\n",
       "      <th>1667</th>\n",
       "      <td>1901.07.30</td>\n",
       "      <td>1990.135167</td>\n",
       "      <td>Unprovoked</td>\n",
       "      <td>south africa</td>\n",
       "      <td>29.0</td>\n",
       "      <td>White shark</td>\n",
       "      <td>Jul</td>\n",
       "      <td>Y</td>\n",
       "      <td>M</td>\n",
       "      <td>White</td>\n",
       "      <td>joven</td>\n",
       "    </tr>\n",
       "    <tr>\n",
       "      <th>1668</th>\n",
       "      <td>1894.11.28</td>\n",
       "      <td>1975.000000</td>\n",
       "      <td>Unprovoked</td>\n",
       "      <td>australia</td>\n",
       "      <td>19.0</td>\n",
       "      <td>10' to 12' shark</td>\n",
       "      <td>Nov</td>\n",
       "      <td>N</td>\n",
       "      <td>M</td>\n",
       "      <td>Unspecified</td>\n",
       "      <td>joven</td>\n",
       "    </tr>\n",
       "    <tr>\n",
       "      <th>1669</th>\n",
       "      <td>1892.03.02</td>\n",
       "      <td>1975.000000</td>\n",
       "      <td>Provoked</td>\n",
       "      <td>australia</td>\n",
       "      <td>21.0</td>\n",
       "      <td>12' shark</td>\n",
       "      <td>Mar</td>\n",
       "      <td>N</td>\n",
       "      <td>M</td>\n",
       "      <td>Unspecified</td>\n",
       "      <td>joven</td>\n",
       "    </tr>\n",
       "    <tr>\n",
       "      <th>1670</th>\n",
       "      <td>1880.11.25</td>\n",
       "      <td>1975.000000</td>\n",
       "      <td>Unprovoked</td>\n",
       "      <td>australia</td>\n",
       "      <td>12.0</td>\n",
       "      <td>Bull shark</td>\n",
       "      <td>Nov</td>\n",
       "      <td>Y</td>\n",
       "      <td>M</td>\n",
       "      <td>Bull</td>\n",
       "      <td>joven</td>\n",
       "    </tr>\n",
       "    <tr>\n",
       "      <th>1671</th>\n",
       "      <td>1868.05.13</td>\n",
       "      <td>1975.000000</td>\n",
       "      <td>Unprovoked</td>\n",
       "      <td>india</td>\n",
       "      <td>35.0</td>\n",
       "      <td>Identified as C. gangeticus by Dr. J. Fayrer</td>\n",
       "      <td>May</td>\n",
       "      <td>Y</td>\n",
       "      <td>M</td>\n",
       "      <td>Unspecified</td>\n",
       "      <td>adulto</td>\n",
       "    </tr>\n",
       "  </tbody>\n",
       "</table>\n",
       "<p>1672 rows × 11 columns</p>\n",
       "</div>"
      ],
      "text/plain": [
       "       case_number         year        type       country   age  \\\n",
       "0       1800.00.00  1975.000000  Unprovoked    seychelles   NaN   \n",
       "1     1797.05.28.R  1975.000000  Unprovoked           NaN   NaN   \n",
       "2       1792.09.12  1975.000000    Provoked       england   NaN   \n",
       "3       1791.00.00  1975.000000  Unprovoked     australia   NaN   \n",
       "4       1788.05.10  1975.000000        Boat     australia   NaN   \n",
       "...            ...          ...         ...           ...   ...   \n",
       "1667    1901.07.30  1990.135167  Unprovoked  south africa  29.0   \n",
       "1668    1894.11.28  1975.000000  Unprovoked     australia  19.0   \n",
       "1669    1892.03.02  1975.000000    Provoked     australia  21.0   \n",
       "1670    1880.11.25  1975.000000  Unprovoked     australia  12.0   \n",
       "1671    1868.05.13  1975.000000  Unprovoked         india  35.0   \n",
       "\n",
       "                                          species_ month fatal  sex  \\\n",
       "0                                              NaN   NaN     Y    F   \n",
       "1                                              NaN   May     Y  NaN   \n",
       "2                                              NaN   Sep     Y    M   \n",
       "3                                              NaN   NaN     Y    F   \n",
       "4                                              NaN   May     N  NaN   \n",
       "...                                            ...   ...   ...  ...   \n",
       "1667                                   White shark   Jul     Y    M   \n",
       "1668                              10' to 12' shark   Nov     N    M   \n",
       "1669                                     12' shark   Mar     N    M   \n",
       "1670                                    Bull shark   Nov     Y    M   \n",
       "1671  Identified as C. gangeticus by Dr. J. Fayrer   May     Y    M   \n",
       "\n",
       "     species_shark edad_ataques  \n",
       "0      Unspecified          NaN  \n",
       "1      Unspecified          NaN  \n",
       "2      Unspecified          NaN  \n",
       "3      Unspecified          NaN  \n",
       "4      Unspecified          NaN  \n",
       "...            ...          ...  \n",
       "1667         White        joven  \n",
       "1668   Unspecified        joven  \n",
       "1669   Unspecified        joven  \n",
       "1670          Bull        joven  \n",
       "1671   Unspecified       adulto  \n",
       "\n",
       "[1672 rows x 11 columns]"
      ]
     },
     "execution_count": 68,
     "metadata": {},
     "output_type": "execute_result"
    }
   ],
   "source": [
    "reemplazar_outliers(ind,df)"
   ]
  },
  {
   "cell_type": "code",
   "execution_count": 69,
   "metadata": {},
   "outputs": [],
   "source": [
    "quitar_decimales=round(df['year'],0)"
   ]
  },
  {
   "cell_type": "code",
   "execution_count": 74,
   "metadata": {},
   "outputs": [
    {
     "data": {
      "text/html": [
       "<div>\n",
       "<style scoped>\n",
       "    .dataframe tbody tr th:only-of-type {\n",
       "        vertical-align: middle;\n",
       "    }\n",
       "\n",
       "    .dataframe tbody tr th {\n",
       "        vertical-align: top;\n",
       "    }\n",
       "\n",
       "    .dataframe thead th {\n",
       "        text-align: right;\n",
       "    }\n",
       "</style>\n",
       "<table border=\"1\" class=\"dataframe\">\n",
       "  <thead>\n",
       "    <tr style=\"text-align: right;\">\n",
       "      <th></th>\n",
       "      <th>case_number</th>\n",
       "      <th>year</th>\n",
       "      <th>type</th>\n",
       "      <th>country</th>\n",
       "      <th>age</th>\n",
       "      <th>species_</th>\n",
       "      <th>month</th>\n",
       "      <th>fatal</th>\n",
       "      <th>sex</th>\n",
       "      <th>species_shark</th>\n",
       "      <th>edad_ataques</th>\n",
       "    </tr>\n",
       "  </thead>\n",
       "  <tbody>\n",
       "    <tr>\n",
       "      <th>443</th>\n",
       "      <td>2012.05.06</td>\n",
       "      <td>2012.000000</td>\n",
       "      <td>Unprovoked</td>\n",
       "      <td>usa</td>\n",
       "      <td>15.0</td>\n",
       "      <td>White shark</td>\n",
       "      <td>May</td>\n",
       "      <td>N</td>\n",
       "      <td>F</td>\n",
       "      <td>White</td>\n",
       "      <td>joven</td>\n",
       "    </tr>\n",
       "    <tr>\n",
       "      <th>978</th>\n",
       "      <td>1999.02.23</td>\n",
       "      <td>1999.000000</td>\n",
       "      <td>Unprovoked</td>\n",
       "      <td>australia</td>\n",
       "      <td>35.0</td>\n",
       "      <td>Bronze whaler or tiger shark</td>\n",
       "      <td>Feb</td>\n",
       "      <td>N</td>\n",
       "      <td>M</td>\n",
       "      <td>Tiger</td>\n",
       "      <td>adulto</td>\n",
       "    </tr>\n",
       "    <tr>\n",
       "      <th>821</th>\n",
       "      <td>2003.05.10</td>\n",
       "      <td>2003.000000</td>\n",
       "      <td>Unprovoked</td>\n",
       "      <td>usa</td>\n",
       "      <td>20.0</td>\n",
       "      <td>1.8 m [6'] reef shark - or a 2.1 m to 2.4 m [7...</td>\n",
       "      <td>May</td>\n",
       "      <td>N</td>\n",
       "      <td>M</td>\n",
       "      <td>Grey</td>\n",
       "      <td>joven</td>\n",
       "    </tr>\n",
       "    <tr>\n",
       "      <th>918</th>\n",
       "      <td>2001.04.08.b</td>\n",
       "      <td>2001.000000</td>\n",
       "      <td>Unprovoked</td>\n",
       "      <td>south africa</td>\n",
       "      <td>46.0</td>\n",
       "      <td>White shark, 2.7 m [9']</td>\n",
       "      <td>Apr</td>\n",
       "      <td>N</td>\n",
       "      <td>M</td>\n",
       "      <td>White</td>\n",
       "      <td>adulto</td>\n",
       "    </tr>\n",
       "    <tr>\n",
       "      <th>1424</th>\n",
       "      <td>1964.02.05.a</td>\n",
       "      <td>1964.000000</td>\n",
       "      <td>Unprovoked</td>\n",
       "      <td>new zealand</td>\n",
       "      <td>19.0</td>\n",
       "      <td>White shark, 3 m to 3.7 m [10' to 12']</td>\n",
       "      <td>Feb</td>\n",
       "      <td>Y</td>\n",
       "      <td>M</td>\n",
       "      <td>White</td>\n",
       "      <td>joven</td>\n",
       "    </tr>\n",
       "    <tr>\n",
       "      <th>1129</th>\n",
       "      <td>1991.09.08</td>\n",
       "      <td>1991.000000</td>\n",
       "      <td>Unprovoked</td>\n",
       "      <td>australia</td>\n",
       "      <td>19.0</td>\n",
       "      <td>4 m [13'] white shark</td>\n",
       "      <td>Sep</td>\n",
       "      <td>Y</td>\n",
       "      <td>M</td>\n",
       "      <td>White</td>\n",
       "      <td>joven</td>\n",
       "    </tr>\n",
       "    <tr>\n",
       "      <th>232</th>\n",
       "      <td>2016.07.07.b</td>\n",
       "      <td>2016.000000</td>\n",
       "      <td>Provoked</td>\n",
       "      <td>usa</td>\n",
       "      <td>59.0</td>\n",
       "      <td>dogfish shark</td>\n",
       "      <td>Jul</td>\n",
       "      <td>N</td>\n",
       "      <td>M</td>\n",
       "      <td>Unspecified</td>\n",
       "      <td>mayor</td>\n",
       "    </tr>\n",
       "    <tr>\n",
       "      <th>1507</th>\n",
       "      <td>1960.05.19</td>\n",
       "      <td>1960.000000</td>\n",
       "      <td>Unprovoked</td>\n",
       "      <td>usa</td>\n",
       "      <td>16.0</td>\n",
       "      <td>White shark, 4 m to 5 m [13' to 16.5']</td>\n",
       "      <td>May</td>\n",
       "      <td>N</td>\n",
       "      <td>F</td>\n",
       "      <td>White</td>\n",
       "      <td>joven</td>\n",
       "    </tr>\n",
       "    <tr>\n",
       "      <th>1658</th>\n",
       "      <td>1922.05.24</td>\n",
       "      <td>1990.135167</td>\n",
       "      <td>Unprovoked</td>\n",
       "      <td>jamaica</td>\n",
       "      <td>19.0</td>\n",
       "      <td>6' shark</td>\n",
       "      <td>NaN</td>\n",
       "      <td>Y</td>\n",
       "      <td>M</td>\n",
       "      <td>Unspecified</td>\n",
       "      <td>joven</td>\n",
       "    </tr>\n",
       "    <tr>\n",
       "      <th>864</th>\n",
       "      <td>2002.08.11</td>\n",
       "      <td>2002.000000</td>\n",
       "      <td>Unprovoked</td>\n",
       "      <td>usa</td>\n",
       "      <td>15.0</td>\n",
       "      <td>Nurse shark, 1.5 m [5']</td>\n",
       "      <td>Aug</td>\n",
       "      <td>N</td>\n",
       "      <td>M</td>\n",
       "      <td>Unspecified</td>\n",
       "      <td>joven</td>\n",
       "    </tr>\n",
       "  </tbody>\n",
       "</table>\n",
       "</div>"
      ],
      "text/plain": [
       "       case_number         year        type       country   age  \\\n",
       "443     2012.05.06  2012.000000  Unprovoked           usa  15.0   \n",
       "978     1999.02.23  1999.000000  Unprovoked     australia  35.0   \n",
       "821     2003.05.10  2003.000000  Unprovoked           usa  20.0   \n",
       "918   2001.04.08.b  2001.000000  Unprovoked  south africa  46.0   \n",
       "1424  1964.02.05.a  1964.000000  Unprovoked   new zealand  19.0   \n",
       "1129    1991.09.08  1991.000000  Unprovoked     australia  19.0   \n",
       "232   2016.07.07.b  2016.000000    Provoked           usa  59.0   \n",
       "1507    1960.05.19  1960.000000  Unprovoked           usa  16.0   \n",
       "1658    1922.05.24  1990.135167  Unprovoked       jamaica  19.0   \n",
       "864     2002.08.11  2002.000000  Unprovoked           usa  15.0   \n",
       "\n",
       "                                               species_ month fatal sex  \\\n",
       "443                                         White shark   May     N   F   \n",
       "978                        Bronze whaler or tiger shark   Feb     N   M   \n",
       "821   1.8 m [6'] reef shark - or a 2.1 m to 2.4 m [7...   May     N   M   \n",
       "918                            White shark, 2.7 m [9']    Apr     N   M   \n",
       "1424            White shark, 3 m to 3.7 m [10' to 12']    Feb     Y   M   \n",
       "1129                              4 m [13'] white shark   Sep     Y   M   \n",
       "232                                       dogfish shark   Jul     N   M   \n",
       "1507            White shark, 4 m to 5 m [13' to 16.5']    May     N   F   \n",
       "1658                                           6' shark   NaN     Y   M   \n",
       "864                            Nurse shark, 1.5 m [5']    Aug     N   M   \n",
       "\n",
       "     species_shark edad_ataques  \n",
       "443          White        joven  \n",
       "978          Tiger       adulto  \n",
       "821           Grey        joven  \n",
       "918          White       adulto  \n",
       "1424         White        joven  \n",
       "1129         White        joven  \n",
       "232    Unspecified        mayor  \n",
       "1507         White        joven  \n",
       "1658   Unspecified        joven  \n",
       "864    Unspecified        joven  "
      ]
     },
     "execution_count": 74,
     "metadata": {},
     "output_type": "execute_result"
    }
   ],
   "source": [
    "df.sample(10)"
   ]
  },
  {
   "cell_type": "code",
   "execution_count": 82,
   "metadata": {},
   "outputs": [
    {
     "data": {
      "image/png": "[encoded data removed]",
      "text/plain": [
       "<Figure size 1300x500 with 1 Axes>"
      ]
     },
     "metadata": {},
     "output_type": "display_data"
    }
   ],
   "source": [
    "fig, ax=plt.subplots(figsize = (13,5))\n",
    "sns.boxplot(x='year', data=df)\n",
    "plt.show()"
   ]
  },
  {
   "attachments": {},
   "cell_type": "markdown",
   "metadata": {},
   "source": [
    "5. Guarda el csv con las columnas limpias para seguir trabajando con este dataframe limpio en el siguiente pair programming de limpieza."
   ]
  },
  {
   "cell_type": "code",
   "execution_count": 83,
   "metadata": {},
   "outputs": [],
   "source": [
    "df.to_csv('attacks_limpieza3.csv')"
   ]
  }
 ],
 "metadata": {
  "kernelspec": {
   "display_name": "Python 3.10.8 64-bit",
   "language": "python",
   "name": "python3"
  },
  "language_info": {
   "codemirror_mode": {
    "name": "ipython",
    "version": 3
   },
   "file_extension": ".py",
   "mimetype": "text/x-python",
   "name": "python",
   "nbconvert_exporter": "python",
   "pygments_lexer": "ipython3",
   "version": "3.10.8"
  },
  "orig_nbformat": 4,
  "vscode": {
   "interpreter": {
    "hash": "aee8b7b246df8f9039afb4144a1f6fd8d2ca17a180786b69acc140d282b71a49"
   }
  }
 },
 "nbformat": 4,
 "nbformat_minor": 2
}
