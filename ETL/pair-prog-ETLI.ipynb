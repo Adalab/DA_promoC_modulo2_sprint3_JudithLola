{
 "cells": [
  {
   "cell_type": "markdown",
   "metadata": {},
   "source": [
    "## Pair Programming ETL I\n",
    "### Modulo 2 Sprint 2\n",
    "#### Lola Rubio y Judith Mellidez "
   ]
  },
  {
   "cell_type": "markdown",
   "metadata": {},
   "source": [
    "Vamos a nutrir los datos de los ataques de los tiburones con información climática de los paises que tenemos. Para eso vamos a usar la API del clima que hemos aprendido en la clase invertida:"
   ]
  },
  {
   "cell_type": "markdown",
   "metadata": {},
   "source": [
    "url = f'http://www.7timer.info/bin/api.pl?lon=-{lon}&lat={lat}&product={producto}&output=json'"
   ]
  },
  {
   "cell_type": "markdown",
   "metadata": {},
   "source": [
    "En este caso os recomendamos que uséis el producto meteo para obtener la información climática. Para hacer la llamada a la API necesitamos también las coordenadas de los paises que tenemos en el dataset.\n",
    "Por lo tanto, el objetivo es que saquéis la información del clima de la API para los paises que tenemos. Pero antes de poneros manos a la obra, tenemos muchísimos países y esto puede hacerse eterno. Sacad la información climática solo para los siguientes países, con las siguientes coordenadas:"
   ]
  },
  {
   "cell_type": "markdown",
   "metadata": {},
   "source": [
    "-Pais USA Latitud 39.7837304 Longitud -100.445882\n",
    "\n",
    "-Pais Australia Latitud -24.7761086 Longitud 134.755\n",
    "\n",
    "-Pais South Africa Latitud -28.8166236 Longitud 24.991639\n",
    "\n",
    "-Pais New Zealand Latitud -41.5000831 Longitud 172.8344077\n",
    "\n",
    "-Pais Papua New Guinea Latitud -5.6816069 Longitud 144.2489081"
   ]
  },
  {
   "cell_type": "markdown",
   "metadata": {},
   "source": [
    "Requisitos de este ejercicio de pair programming:\n",
    "- Deberéis meter toda la información climática en un único dataframe.\n",
    "- Deberéis hacer la llamada a la API de una sola vez. Es decir, tendréis que iterar por la lista de países y sacar la información del clima para cada uno de ellos.\n",
    "- Al meter toda la información en un único dataframe tendremos que crear una columna que corresponda con el nombre del país.\n",
    "- Guardar el dataframe obtenido para usarlo en la siguiente sesión de pair programming."
   ]
  },
  {
   "cell_type": "markdown",
   "metadata": {},
   "source": [
    "💡 Pistas 💡:\n",
    "-  Crearos un diccionario donde:\n",
    "    - Las keys sean los nombres de los paises\n",
    "    - Los values sean las coordenadas de los paises en formato lista.\n",
    "- Iterar por el diccionario. Dentro del for haremos la llamada a la API como hemos aprendido en las clases invertidas. Recordamos que para iterar por el diccionario tenemos que seguir la siguiente estructura:\n",
    "    - for key, value in diccionario.items():\n",
    "    print(key, value)\n",
    "- Crearnos un dataframe vacío donde iremos concatenando los datos obtenidos de la API cada país.\n",
    "- Guardad el csv ya que mañana lo necesitaremos para hacer el ejercicio de pair programming."
   ]
  },
  {
   "cell_type": "markdown",
   "metadata": {},
   "source": []
  }
 ],
 "metadata": {
  "kernelspec": {
   "display_name": "Python 3.10.8 64-bit",
   "language": "python",
   "name": "python3"
  },
  "language_info": {
   "name": "python",
   "version": "3.10.8"
  },
  "orig_nbformat": 4,
  "vscode": {
   "interpreter": {
    "hash": "aee8b7b246df8f9039afb4144a1f6fd8d2ca17a180786b69acc140d282b71a49"
   }
  }
 },
 "nbformat": 4,
 "nbformat_minor": 2
}
