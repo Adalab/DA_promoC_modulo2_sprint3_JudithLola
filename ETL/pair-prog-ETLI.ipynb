{
 "cells": [
  {
   "attachments": {},
   "cell_type": "markdown",
   "metadata": {},
   "source": [
    "## Pair Programming ETL I\n",
    "### Modulo 2 Sprint 2\n",
    "#### Lola Rubio y Judith Mellidez "
   ]
  },
  {
   "cell_type": "code",
   "execution_count": 1,
   "metadata": {},
   "outputs": [],
   "source": [
    "from IPython.core.interactiveshell import InteractiveShell # Nos permite mostar más de una salida por celda\n",
    "InteractiveShell.ast_node_interactivity = \"all\" # Nos permite mostar más de una salida por celda\n",
    "\n",
    "import requests\n",
    "import pandas as pd\n",
    "import numpy as np"
   ]
  },
  {
   "attachments": {},
   "cell_type": "markdown",
   "metadata": {},
   "source": [
    "Vamos a nutrir los datos de los ataques de los tiburones con información climática de los paises que tenemos. Para eso vamos a usar la API del clima que hemos aprendido en la clase invertida:"
   ]
  },
  {
   "attachments": {},
   "cell_type": "markdown",
   "metadata": {},
   "source": [
    "Requisitos de este ejercicio de pair programming:\n",
    "Deberéis meter toda la información climática en un único dataframe.\n"
   ]
  },
  {
   "attachments": {},
   "cell_type": "markdown",
   "metadata": {},
   "source": [
    "Deberéis hacer la llamada a la API de una sola vez. Es decir, tendréis que iterar por la lista de países y sacar la información del clima para cada uno de ellos."
   ]
  },
  {
   "attachments": {},
   "cell_type": "markdown",
   "metadata": {},
   "source": [
    "Al meter toda la información en un único dataframe tendremos que crear una columna que corresponda con el nombre del país."
   ]
  },
  {
   "attachments": {},
   "cell_type": "markdown",
   "metadata": {},
   "source": [
    "Iterar por el diccionario. Dentro del for haremos la llamada a la API como hemos aprendido en las clases invertidas. Recordamos que para iterar por el diccionario tenemos que seguir la siguiente estructura:\n",
    "for key, value in diccionario.items():\n",
    "    print(key, value)"
   ]
  },
  {
   "attachments": {},
   "cell_type": "markdown",
   "metadata": {},
   "source": [
    "Crearnos un dataframe vacío donde iremos concatenando los datos obtenidos de la API cada país.\n",
    "Guardad el csv ya que mañana lo necesitaremos para hacer el ejercicio de pair programming."
   ]
  },
  {
   "cell_type": "code",
   "execution_count": 3,
   "metadata": {},
   "outputs": [],
   "source": [
    "# creamos un diccionario de países\n",
    "dicc_paises= {'USA':[-100.445882,39.7837304],\n",
    "            'Australia':[134.755,-24.7761086],\n",
    "            'South Africa':[24.991639,-28.8166236],\n",
    "            'New Zealand':[172.8344077,-41.5000831],\n",
    "            'Papua New Guinea':[144.2489081,-5.6816069]}"
   ]
  },
  {
   "cell_type": "code",
   "execution_count": null,
   "metadata": {},
   "outputs": [],
   "source": [
    "producto = 'meteo'"
   ]
  },
  {
   "cell_type": "code",
   "execution_count": 71,
   "metadata": {},
   "outputs": [],
   "source": [
    "# función de llamada a la API\n",
    "def paises_localizacion(diccionario):\n",
    "    df_vacio= pd.DataFrame()\n",
    "    for key, value in dicc_paises.items():\n",
    "        lon = value[0]\n",
    "        lat = value[1]\n",
    "        pais = key\n",
    "        producto = 'meteo' \n",
    "\n",
    "        url = f'http://www.7timer.info/bin/api.pl?lon=-{lon}&lat={lat}&product={producto}&output=json'\n",
    "        response = requests.get(url=url)\n",
    "        response.status_code\n",
    "        response.reason\n",
    "        df_paises =pd.DataFrame.from_dict(pd.json_normalize(response.json()['dataseries']))\n",
    "        df_paises['lon']=lon\n",
    "        df_paises['lat']=lat   \n",
    "        df_paises['pais']=key\n",
    "        df_vacio= pd.concat([df_vacio, df_paises],ignore_index = True ,axis =0)\n",
    "\n",
    "    return df_vacio\n"
   ]
  },
  {
   "cell_type": "code",
   "execution_count": 73,
   "metadata": {},
   "outputs": [
    {
     "data": {
      "text/html": [
       "<div>\n",
       "<style scoped>\n",
       "    .dataframe tbody tr th:only-of-type {\n",
       "        vertical-align: middle;\n",
       "    }\n",
       "\n",
       "    .dataframe tbody tr th {\n",
       "        vertical-align: top;\n",
       "    }\n",
       "\n",
       "    .dataframe thead th {\n",
       "        text-align: right;\n",
       "    }\n",
       "</style>\n",
       "<table border=\"1\" class=\"dataframe\">\n",
       "  <thead>\n",
       "    <tr style=\"text-align: right;\">\n",
       "      <th></th>\n",
       "      <th>timepoint</th>\n",
       "      <th>cloudcover</th>\n",
       "      <th>highcloud</th>\n",
       "      <th>midcloud</th>\n",
       "      <th>lowcloud</th>\n",
       "      <th>rh_profile</th>\n",
       "      <th>wind_profile</th>\n",
       "      <th>temp2m</th>\n",
       "      <th>lifted_index</th>\n",
       "      <th>rh2m</th>\n",
       "      <th>msl_pressure</th>\n",
       "      <th>prec_type</th>\n",
       "      <th>prec_amount</th>\n",
       "      <th>snow_depth</th>\n",
       "      <th>wind10m.direction</th>\n",
       "      <th>wind10m.speed</th>\n",
       "      <th>lon</th>\n",
       "      <th>lat</th>\n",
       "      <th>pais</th>\n",
       "    </tr>\n",
       "  </thead>\n",
       "  <tbody>\n",
       "    <tr>\n",
       "      <th>120</th>\n",
       "      <td>171</td>\n",
       "      <td>9</td>\n",
       "      <td>-9999</td>\n",
       "      <td>-9999</td>\n",
       "      <td>-9999</td>\n",
       "      <td>[{'layer': '950mb', 'rh': 14}, {'layer': '900m...</td>\n",
       "      <td>[{'layer': '950mb', 'direction': 305, 'speed':...</td>\n",
       "      <td>26</td>\n",
       "      <td>-4</td>\n",
       "      <td>11</td>\n",
       "      <td>1012</td>\n",
       "      <td>rain</td>\n",
       "      <td>4</td>\n",
       "      <td>0</td>\n",
       "      <td>305</td>\n",
       "      <td>3</td>\n",
       "      <td>134.755000</td>\n",
       "      <td>-24.776109</td>\n",
       "      <td>Australia</td>\n",
       "    </tr>\n",
       "    <tr>\n",
       "      <th>176</th>\n",
       "      <td>147</td>\n",
       "      <td>8</td>\n",
       "      <td>-9999</td>\n",
       "      <td>-9999</td>\n",
       "      <td>-9999</td>\n",
       "      <td>[{'layer': '950mb', 'rh': 9}, {'layer': '900mb...</td>\n",
       "      <td>[{'layer': '950mb', 'direction': 305, 'speed':...</td>\n",
       "      <td>23</td>\n",
       "      <td>2</td>\n",
       "      <td>10</td>\n",
       "      <td>1018</td>\n",
       "      <td>none</td>\n",
       "      <td>2</td>\n",
       "      <td>0</td>\n",
       "      <td>325</td>\n",
       "      <td>2</td>\n",
       "      <td>24.991639</td>\n",
       "      <td>-28.816624</td>\n",
       "      <td>South Africa</td>\n",
       "    </tr>\n",
       "    <tr>\n",
       "      <th>81</th>\n",
       "      <td>54</td>\n",
       "      <td>1</td>\n",
       "      <td>-9999</td>\n",
       "      <td>-9999</td>\n",
       "      <td>-9999</td>\n",
       "      <td>[{'layer': '950mb', 'rh': 15}, {'layer': '900m...</td>\n",
       "      <td>[{'layer': '950mb', 'direction': 70, 'speed': ...</td>\n",
       "      <td>26</td>\n",
       "      <td>-6</td>\n",
       "      <td>12</td>\n",
       "      <td>1017</td>\n",
       "      <td>rain</td>\n",
       "      <td>3</td>\n",
       "      <td>0</td>\n",
       "      <td>75</td>\n",
       "      <td>4</td>\n",
       "      <td>134.755000</td>\n",
       "      <td>-24.776109</td>\n",
       "      <td>Australia</td>\n",
       "    </tr>\n",
       "  </tbody>\n",
       "</table>\n",
       "</div>"
      ],
      "text/plain": [
       "     timepoint  cloudcover  highcloud  midcloud  lowcloud  \\\n",
       "120        171           9      -9999     -9999     -9999   \n",
       "176        147           8      -9999     -9999     -9999   \n",
       "81          54           1      -9999     -9999     -9999   \n",
       "\n",
       "                                            rh_profile  \\\n",
       "120  [{'layer': '950mb', 'rh': 14}, {'layer': '900m...   \n",
       "176  [{'layer': '950mb', 'rh': 9}, {'layer': '900mb...   \n",
       "81   [{'layer': '950mb', 'rh': 15}, {'layer': '900m...   \n",
       "\n",
       "                                          wind_profile  temp2m  lifted_index  \\\n",
       "120  [{'layer': '950mb', 'direction': 305, 'speed':...      26            -4   \n",
       "176  [{'layer': '950mb', 'direction': 305, 'speed':...      23             2   \n",
       "81   [{'layer': '950mb', 'direction': 70, 'speed': ...      26            -6   \n",
       "\n",
       "     rh2m  msl_pressure prec_type  prec_amount  snow_depth wind10m.direction  \\\n",
       "120    11          1012      rain            4           0               305   \n",
       "176    10          1018      none            2           0               325   \n",
       "81     12          1017      rain            3           0                75   \n",
       "\n",
       "     wind10m.speed         lon        lat          pais  \n",
       "120              3  134.755000 -24.776109     Australia  \n",
       "176              2   24.991639 -28.816624  South Africa  \n",
       "81               4  134.755000 -24.776109     Australia  "
      ]
     },
     "execution_count": 73,
     "metadata": {},
     "output_type": "execute_result"
    }
   ],
   "source": [
    "# llamamos a la función\n",
    "df_paises = paises_localizacion(dicc_paises)\n",
    "df_paises.sample(3)"
   ]
  },
  {
   "cell_type": "code",
   "execution_count": 75,
   "metadata": {},
   "outputs": [],
   "source": [
    "# guardamos el archivo nuevo\n",
    "df_paises.to_csv(\"attacks_completo.csv\",index = False)"
   ]
  }
 ],
 "metadata": {
  "kernelspec": {
   "display_name": "base",
   "language": "python",
   "name": "python3"
  },
  "language_info": {
   "codemirror_mode": {
    "name": "ipython",
    "version": 3
   },
   "file_extension": ".py",
   "mimetype": "text/x-python",
   "name": "python",
   "nbconvert_exporter": "python",
   "pygments_lexer": "ipython3",
   "version": "3.9.7 (default, Sep 16 2021, 13:09:58) \n[GCC 7.5.0]"
  },
  "orig_nbformat": 4,
  "vscode": {
   "interpreter": {
    "hash": "4b1ecc98482ac3f78e7638a36d488665c227c7cb0420745d3c03f1c165a0d66a"
   }
  }
 },
 "nbformat": 4,
 "nbformat_minor": 2
}
