{
 "cells": [
  {
   "attachments": {},
   "cell_type": "markdown",
   "metadata": {},
   "source": [
    "## Pair Programming ETL Carga I\n",
    "### Modulo 2 Sprint 2\n",
    "#### Lola Rubio y Judith Mellidez \n"
   ]
  },
  {
   "attachments": {},
   "cell_type": "markdown",
   "metadata": {},
   "source": [
    "Igual que en el ejercicio de pair programming de ETL Transformación II, tendréis que crear una clase que nos permita cargar los datos en SQL I."
   ]
  },
  {
   "cell_type": "code",
   "execution_count": 1,
   "metadata": {},
   "outputs": [],
   "source": [
    "import pandas as pd\n",
    "import mysql.connector\n",
    "import requests"
   ]
  },
  {
   "cell_type": "code",
   "execution_count": 2,
   "metadata": {},
   "outputs": [],
   "source": [
    "df = pd.read_pickle('datos_union_clima_ataques_sql.pickle')"
   ]
  },
  {
   "cell_type": "code",
   "execution_count": 4,
   "metadata": {},
   "outputs": [],
   "source": [
    "pd.options.display.max_columns = None"
   ]
  },
  {
   "cell_type": "code",
   "execution_count": 3,
   "metadata": {},
   "outputs": [
    {
     "data": {
      "text/html": [
       "<div>\n",
       "<style scoped>\n",
       "    .dataframe tbody tr th:only-of-type {\n",
       "        vertical-align: middle;\n",
       "    }\n",
       "\n",
       "    .dataframe tbody tr th {\n",
       "        vertical-align: top;\n",
       "    }\n",
       "\n",
       "    .dataframe thead th {\n",
       "        text-align: right;\n",
       "    }\n",
       "</style>\n",
       "<table border=\"1\" class=\"dataframe\">\n",
       "  <thead>\n",
       "    <tr style=\"text-align: right;\">\n",
       "      <th></th>\n",
       "      <th>case_number</th>\n",
       "      <th>year</th>\n",
       "      <th>type</th>\n",
       "      <th>country</th>\n",
       "      <th>area</th>\n",
       "      <th>location</th>\n",
       "      <th>activity</th>\n",
       "      <th>name</th>\n",
       "      <th>age</th>\n",
       "      <th>time</th>\n",
       "      <th>...</th>\n",
       "      <th>midcloud</th>\n",
       "      <th>lowcloud</th>\n",
       "      <th>temp2m</th>\n",
       "      <th>lifted_index</th>\n",
       "      <th>rh2m</th>\n",
       "      <th>msl_pressure</th>\n",
       "      <th>prec_amount</th>\n",
       "      <th>snow_depth</th>\n",
       "      <th>wind10m.direction</th>\n",
       "      <th>wind10m.speed</th>\n",
       "    </tr>\n",
       "  </thead>\n",
       "  <tbody>\n",
       "    <tr>\n",
       "      <th>0</th>\n",
       "      <td>2018.06.25</td>\n",
       "      <td>2018.0</td>\n",
       "      <td>Boating</td>\n",
       "      <td>USA</td>\n",
       "      <td>California</td>\n",
       "      <td>Oceanside, San Diego County</td>\n",
       "      <td>Paddling</td>\n",
       "      <td>Julie Wolfe</td>\n",
       "      <td>57</td>\n",
       "      <td>18h00</td>\n",
       "      <td>...</td>\n",
       "      <td>-9999.0</td>\n",
       "      <td>-9999.0</td>\n",
       "      <td>11.421875</td>\n",
       "      <td>9.6875</td>\n",
       "      <td>4.25</td>\n",
       "      <td>1013.703125</td>\n",
       "      <td>1.234375</td>\n",
       "      <td>0.0</td>\n",
       "      <td>192.109375</td>\n",
       "      <td>2.921875</td>\n",
       "    </tr>\n",
       "    <tr>\n",
       "      <th>1</th>\n",
       "      <td>2018.06.18</td>\n",
       "      <td>2018.0</td>\n",
       "      <td>Unprovoked</td>\n",
       "      <td>USA</td>\n",
       "      <td>Georgia</td>\n",
       "      <td>St. Simon Island, Glynn County</td>\n",
       "      <td>Standing</td>\n",
       "      <td>AdysonÂ McNeely</td>\n",
       "      <td>11</td>\n",
       "      <td>14h00  -15h00</td>\n",
       "      <td>...</td>\n",
       "      <td>-9999.0</td>\n",
       "      <td>-9999.0</td>\n",
       "      <td>11.421875</td>\n",
       "      <td>9.6875</td>\n",
       "      <td>4.25</td>\n",
       "      <td>1013.703125</td>\n",
       "      <td>1.234375</td>\n",
       "      <td>0.0</td>\n",
       "      <td>192.109375</td>\n",
       "      <td>2.921875</td>\n",
       "    </tr>\n",
       "  </tbody>\n",
       "</table>\n",
       "<p>2 rows × 62 columns</p>\n",
       "</div>"
      ],
      "text/plain": [
       "  case_number    year        type country        area  \\\n",
       "0  2018.06.25  2018.0     Boating     USA  California   \n",
       "1  2018.06.18  2018.0  Unprovoked     USA     Georgia   \n",
       "\n",
       "                         location  activity              name age  \\\n",
       "0     Oceanside, San Diego County  Paddling       Julie Wolfe  57   \n",
       "1  St. Simon Island, Glynn County  Standing  AdysonÂ McNeely   11   \n",
       "\n",
       "            time  ... midcloud lowcloud     temp2m lifted_index  rh2m  \\\n",
       "0          18h00  ...  -9999.0  -9999.0  11.421875       9.6875  4.25   \n",
       "1  14h00  -15h00  ...  -9999.0  -9999.0  11.421875       9.6875  4.25   \n",
       "\n",
       "  msl_pressure  prec_amount  snow_depth  wind10m.direction  wind10m.speed  \n",
       "0  1013.703125     1.234375         0.0         192.109375       2.921875  \n",
       "1  1013.703125     1.234375         0.0         192.109375       2.921875  \n",
       "\n",
       "[2 rows x 62 columns]"
      ]
     },
     "execution_count": 3,
     "metadata": {},
     "output_type": "execute_result"
    }
   ],
   "source": [
    "df.head(2)"
   ]
  },
  {
   "attachments": {},
   "cell_type": "markdown",
   "metadata": {},
   "source": [
    "Creamos la clase para cargar los datos"
   ]
  },
  {
   "cell_type": "code",
   "execution_count": 7,
   "metadata": {},
   "outputs": [],
   "source": [
    "class Cargar_datos:\n",
    "    \n",
    "    def __init__(self, nombre_bbdd, contraseña):\n",
    "        self.nombre_bbdd = nombre_bbdd\n",
    "        self.contraseña = contraseña\n",
    "\n",
    "    def crear_bbdd(self):\n",
    "        mydb = mysql.connector.connect(host=\"localhost\",\n",
    "                                       user=\"root\",\n",
    "                                       password=f'{self.contraseña}') \n",
    "        mycursor = mydb.cursor()\n",
    "        print(\"Conectada\")\n",
    "\n",
    "        try:\n",
    "            mycursor.execute(f\"CREATE DATABASE IF NOT EXISTS {self.nombre_bbdd};\")\n",
    "            \n",
    "        except:\n",
    "            print(\"La BBDD ya existe\")\n",
    "             \n",
    "    def crear_ins_tabla(self, query):\n",
    "    \n",
    "        mydb = mysql.connector.connect(host=\"localhost\",\n",
    "                                       user=\"root\",\n",
    "                                       password=f'{self.contraseña}', \n",
    "                                       database=f\"{self.nombre_bbdd}\") \n",
    "        mycursor = mydb.cursor()\n",
    "        \n",
    "        try:\n",
    "            mycursor.execute(query)\n",
    "            mydb.commit()\n",
    "          \n",
    "        except mysql.connector.Error as err:\n",
    "            print(err)\n",
    "            print(\"Error Code:\", err.errno)\n",
    "            print(\"SQLSTATE\", err.sqlstate)\n",
    "            print(\"Message\", err.msg)"
   ]
  },
  {
   "cell_type": "markdown",
   "metadata": {},
   "source": [
    "Definimos las variables"
   ]
  },
  {
   "cell_type": "code",
   "execution_count": 8,
   "metadata": {},
   "outputs": [],
   "source": [
    "bbdd = 'tiburones'\n",
    "contraseña = 'AlumnaAdalab'"
   ]
  },
  {
   "cell_type": "code",
   "execution_count": 9,
   "metadata": {},
   "outputs": [
    {
     "data": {
      "text/plain": [
       "<__main__.Cargar_datos at 0x7ffb1d42bdc0>"
      ]
     },
     "execution_count": 9,
     "metadata": {},
     "output_type": "execute_result"
    }
   ],
   "source": [
    "carga = Cargar_datos(bbdd,contraseña)\n",
    "carga"
   ]
  },
  {
   "attachments": {},
   "cell_type": "markdown",
   "metadata": {},
   "source": [
    "Llamamos a la clase"
   ]
  },
  {
   "cell_type": "code",
   "execution_count": 15,
   "metadata": {},
   "outputs": [
    {
     "name": "stdout",
     "output_type": "stream",
     "text": [
      "Conectada\n"
     ]
    }
   ],
   "source": [
    "carga.crear_bbdd()"
   ]
  },
  {
   "attachments": {},
   "cell_type": "markdown",
   "metadata": {},
   "source": [
    " Creamos las Tablas 'ataques' y 'clima'"
   ]
  },
  {
   "cell_type": "code",
   "execution_count": 16,
   "metadata": {},
   "outputs": [],
   "source": [
    "tabla_ataques = '''\n",
    "CREATE TABLE IF NOT EXISTS `tiburones`.`ataques`(\n",
    "    `id_ataque`INT NOT NULL AUTO_INCREMENT,\n",
    "    `case_number` VARCHAR(45),\n",
    "    `year` BIGINT,\n",
    "    `type` VARCHAR(45),\n",
    "    `country` VARCHAR(45),\n",
    "    `area` VARCHAR(45),\n",
    "    `location` VARCHAR(45),\n",
    "    `activity` VARCHAR(45),\n",
    "    `name` VARCHAR(45),\n",
    "    `age` BIGINT,\n",
    "    `time` DATETIME,\n",
    "    `species_` VARCHAR(100),\t\n",
    "    `injury` VARCHAR(45),\n",
    "    `fecha_limpia` DATE,\n",
    "    `fatal` VARCHAR(4),\n",
    "    `sex` VARCHAR(4),\n",
    "    PRIMARY KEY (`id_ataque`,`country`),\n",
    "    INDEX `fk_country_idx` (`country`)\n",
    "    )\n",
    "ENGINE = InnoDB;'''\n",
    "    \n"
   ]
  },
  {
   "cell_type": "code",
   "execution_count": 17,
   "metadata": {},
   "outputs": [],
   "source": [
    "tabla_clima = '''\n",
    "CREATE TABLE IF NOT EXISTS `tiburones`.`clima`(\n",
    "  `id_clima` INT NOT NULL AUTO_INCREMENT,\n",
    "  `pais` VARCHAR(45) NOT NULL ,\n",
    "  `rh_950mb` DOUBLE NOT NULL,\n",
    "  `rh_900mb` DOUBLE NOT NULL,\n",
    "  `rh_850mb` DOUBLE NOT NULL,\n",
    "  `rh_800mb` DOUBLE NOT NULL,\n",
    "  `rh_750mb` DOUBLE NOT NULL,\n",
    "  `rh_700mb` DOUBLE NOT NULL,\n",
    "  `rh_650mb` DOUBLE NOT NULL,\n",
    "  `rh_600mb` DOUBLE NOT NULL,\n",
    "  `rh_550mb` DOUBLE NOT NULL,\n",
    "  `rh_500mb` DOUBLE NOT NULL,\n",
    "  `rh_450mb` DOUBLE NOT NULL,\n",
    "  `rh_400mb` DOUBLE NOT NULL,\n",
    "  `rh_350mb` DOUBLE NOT NULL,\n",
    "  `rh_300mb` DOUBLE NOT NULL,\n",
    "  `rh_250mb` DOUBLE NOT NULL,\n",
    "  `rh_200mb` DOUBLE NOT NULL,\n",
    "  `wind_950mb` DOUBLE NOT NULL,\n",
    "  `wind_900mb` DOUBLE NOT NULL,\n",
    "  `wind_850mb` DOUBLE NOT NULL,\n",
    "  `wind_800mb` DOUBLE NOT NULL,\n",
    "  `wind_750mb` DOUBLE NOT NULL,\n",
    "  `wind_700mb` DOUBLE NOT NULL,\n",
    "  `wind_650mb` DOUBLE NOT NULL,\n",
    "  `wind_600mb` DOUBLE NOT NULL,\n",
    "  `wind_550mb` DOUBLE NOT NULL,\n",
    "  `wind_500mb` DOUBLE NOT NULL,\n",
    "  `wind_450mb` DOUBLE NOT NULL,\n",
    "  `wind_400mb` DOUBLE NOT NULL,\n",
    "  `wind_350mb` DOUBLE NOT NULL,\n",
    "  `wind_300mb` DOUBLE NOT NULL,\n",
    "  `wind_250mb` DOUBLE NOT NULL,\n",
    "  `wind_200mb` DOUBLE NOT NULL,\n",
    "  `index` FLOAT,\n",
    "  `timepoint` FLOAT,\n",
    "  `cloudcover` DOUBLE,\n",
    "  `highcloud` FLOAT NOT NULL, \n",
    "  `midcloud` FLOAT NOT NULL,\n",
    "  `lowcloud` FLOAT NOT NULL,\n",
    "  `temp2m` DOUBLE,\n",
    "  `lifted_index` DOUBLE,\n",
    "  `rh2m` DOUBLE,\n",
    "  `msl_pressure` DOUBLE,\n",
    "  `prec_amount` DOUBLE,\n",
    "  `snow_depth` DOUBLE,\n",
    "  `wind10m.direction` DOUBLE,\n",
    "  `wind10m.speed` DOUBLE NOT NULL,\n",
    "   PRIMARY KEY (`id_clima`,`pais`),\n",
    "   INDEX `fk_pais_idx` (`pais`)\n",
    "  )\n",
    "  ENGINE = InnoDB;'''"
   ]
  },
  {
   "attachments": {},
   "cell_type": "markdown",
   "metadata": {},
   "source": [
    "Llamamos a los métodos"
   ]
  },
  {
   "cell_type": "code",
   "execution_count": 18,
   "metadata": {},
   "outputs": [],
   "source": [
    "carga.crear_ins_tabla(tabla_ataques)\n",
    "carga.crear_ins_tabla(tabla_clima)"
   ]
  }
 ],
 "metadata": {
  "kernelspec": {
   "display_name": "base",
   "language": "python",
   "name": "python3"
  },
  "language_info": {
   "codemirror_mode": {
    "name": "ipython",
    "version": 3
   },
   "file_extension": ".py",
   "mimetype": "text/x-python",
   "name": "python",
   "nbconvert_exporter": "python",
   "pygments_lexer": "ipython3",
   "version": "3.9.7 (default, Sep 16 2021, 13:09:58) \n[GCC 7.5.0]"
  },
  "orig_nbformat": 4,
  "vscode": {
   "interpreter": {
    "hash": "4b1ecc98482ac3f78e7638a36d488665c227c7cb0420745d3c03f1c165a0d66a"
   }
  }
 },
 "nbformat": 4,
 "nbformat_minor": 2
}
